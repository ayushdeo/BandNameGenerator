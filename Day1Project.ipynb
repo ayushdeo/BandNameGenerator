{
 "cells": [
  {
   "cell_type": "code",
   "execution_count": 7,
   "id": "9f2df0ed",
   "metadata": {},
   "outputs": [
    {
     "name": "stdout",
     "output_type": "stream",
     "text": [
      "Welcome to your Band name Generator!\n",
      "Which city did you grow up in?\n",
      "Thane\n",
      "What is your pets name?\n",
      "Danny\n",
      "Your new Band name could be: Thane Danny\n"
     ]
    }
   ],
   "source": [
    "print(\"Welcome to your Band name Generator!\")\n",
    "\n",
    "city=input(\"Which city did you grow up in?\\n\")\n",
    "pet= input(\"What is your pets name?\\n\")\n",
    "\n",
    "print(\"Your new Band name could be:\", city + \" \" + pet)"
   ]
  },
  {
   "cell_type": "code",
   "execution_count": null,
   "id": "016a1ce2",
   "metadata": {},
   "outputs": [],
   "source": []
  }
 ],
 "metadata": {
  "kernelspec": {
   "display_name": "Python 3 (ipykernel)",
   "language": "python",
   "name": "python3"
  },
  "language_info": {
   "codemirror_mode": {
    "name": "ipython",
    "version": 3
   },
   "file_extension": ".py",
   "mimetype": "text/x-python",
   "name": "python",
   "nbconvert_exporter": "python",
   "pygments_lexer": "ipython3",
   "version": "3.11.5"
  }
 },
 "nbformat": 4,
 "nbformat_minor": 5
}
